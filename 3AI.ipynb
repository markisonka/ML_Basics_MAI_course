{
  "cells": [
    {
      "cell_type": "code",
      "execution_count": null,
      "metadata": {
        "id": "vjTKmo9BuReM"
      },
      "outputs": [],
      "source": [
        "import math\n",
        "import numpy as np\n",
        "import numba\n",
        "import pygame as pg\n",
        "import taichi as tc"
      ]
    },
    {
      "cell_type": "code",
      "execution_count": null,
      "metadata": {
        "id": "ccjlSvw5uReN"
      },
      "outputs": [],
      "source": [
        "# settings\n",
        "res = width, height = 1080, 960\n",
        "offset = np.array([1.3 * width, height]) // 2\n",
        "zoom = 2.2 / height\n",
        "max_iter = 30"
      ]
    },
    {
      "cell_type": "code",
      "execution_count": null,
      "metadata": {
        "id": "6JZCEt0DuReO"
      },
      "outputs": [],
      "source": [
        "# texture\n",
        "texture = pg.image.load('img/texture.jpg')\n",
        "texture_size = min(texture.get_size()) - 1\n",
        "texture_array = pg.surfarray.array3d(texture)"
      ]
    },
    {
      "cell_type": "code",
      "execution_count": null,
      "metadata": {
        "id": "KypcfChjuReO"
      },
      "outputs": [],
      "source": [
        "\n",
        "class Fractal:\n",
        "    def __init__(self, app) -> None:\n",
        "        self.app = app\n",
        "        self.screen_array = np.full((width, height, 3), [0, 0, 0], dtype=np.uint8)\n",
        "        self.x = np.linspace(0, width, num=width, dtype=np.float32)\n",
        "        self.y = np.linspace(0, height, num=height, dtype=np.float32)\n",
        "    \n",
        "    @staticmethod\n",
        "    @numba.njit(fastmath=True, parallel=True)\n",
        "    def render(screen_array):\n",
        "        for x in numba.prange(width):\n",
        "            for y in numba.prange(height):\n",
        "                c = (x - offset[0]) * zoom + 1j * (y - offset[1]) * zoom\n",
        "                z = 0\n",
        "                num_iter = 0\n",
        "                for i in range(max_iter):\n",
        "                    z = z**2 + c\n",
        "                    if z.real**2 + z.imag**2 > 4: # дз чтобы её поменять\n",
        "                        break\n",
        "                    num_iter += 1\n",
        "                #трюк - градиент в зависимости от того, как долго она находится \n",
        "                #(чтобы показать удаление из окружности)\n",
        "                col = int(texture_size * num_iter / max_iter)\n",
        "                screen_array[x,y] = texture_array[col, col]   \n",
        "        return screen_array\n",
        "                 \n",
        "    def update(self):\n",
        "        self.screen_array = self.render(self.screen_array)\n",
        "    \n",
        "    def draw(self):\n",
        "        pg.surfarray.blit_array(self.app.screen, self.screen_array)\n",
        "    \n",
        "    def run(self):\n",
        "        self.update()\n",
        "        self.draw()\n"
      ]
    },
    {
      "cell_type": "code",
      "execution_count": null,
      "metadata": {
        "id": "uDeAmf0YuReO"
      },
      "outputs": [],
      "source": [
        "\n",
        "class App:\n",
        "    def __init__(self) -> None:\n",
        "        self.screen = pg.display.set_mode(res, pg.SCALED)\n",
        "        self.clock = pg.time.Clock()\n",
        "        self.fractal = Fractal(self)\n",
        "    \n",
        "    def run(self):\n",
        "        while True:\n",
        "            self.screen.fill('black')\n",
        "            self.fractal.run()\n",
        "            pg.display.flip()\n",
        "            \n",
        "            [exit() for i in pg.event.get() if i.type == pg.QUIT]\n",
        "            self.clock.tick()\n",
        "            pg.display.set_caption(f'FPS:{self.clock.get_fps()}')\n",
        "    "
      ]
    },
    {
      "cell_type": "code",
      "execution_count": null,
      "metadata": {
        "id": "9ZEVtd3QuReP"
      },
      "outputs": [],
      "source": [
        "app = App()\n",
        "app.run()"
      ]
    },
    {
      "cell_type": "markdown",
      "metadata": {
        "id": "lZLEUEOruReP"
      },
      "source": [
        "<img src=\"img/Screenshot_11.png\">"
      ]
    }
  ],
  "metadata": {
    "kernelspec": {
      "display_name": "Python 3.9.13 ('base')",
      "language": "python",
      "name": "python3"
    },
    "language_info": {
      "codemirror_mode": {
        "name": "ipython",
        "version": 3
      },
      "file_extension": ".py",
      "mimetype": "text/x-python",
      "name": "python",
      "nbconvert_exporter": "python",
      "pygments_lexer": "ipython3",
      "version": "3.9.13"
    },
    "orig_nbformat": 4,
    "vscode": {
      "interpreter": {
        "hash": "3c05aa4aacc3846fa4cd34ace5ac6047d6b88a1f81619af340efafced5e57c11"
      }
    },
    "colab": {
      "provenance": []
    }
  },
  "nbformat": 4,
  "nbformat_minor": 0
}